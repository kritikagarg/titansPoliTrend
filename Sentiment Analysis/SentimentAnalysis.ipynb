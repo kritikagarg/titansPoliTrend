{
 "cells": [
  {
   "cell_type": "code",
   "execution_count": 7,
   "id": "174f7945-fa91-4ee0-af86-36e8a8601bb5",
   "metadata": {},
   "outputs": [],
   "source": [
    "#VADER(Valence Aware Dictionary for Sentiment Reasoning) which has been designed for Social Media Sentiment Analysis. Another advantage it posseses is that it does not require a lot of preprocessing."
   ]
  },
  {
   "cell_type": "code",
   "execution_count": 1,
   "id": "30264a53-8e97-4ddb-be9e-ef169595629e",
   "metadata": {},
   "outputs": [
    {
     "name": "stderr",
     "output_type": "stream",
     "text": [
      "[nltk_data] Downloading package vader_lexicon to\n",
      "[nltk_data]     /Users/kritikagarg/nltk_data...\n"
     ]
    },
    {
     "data": {
      "text/plain": [
       "True"
      ]
     },
     "execution_count": 1,
     "metadata": {},
     "output_type": "execute_result"
    }
   ],
   "source": [
    "import pandas as pd\n",
    "from nltk.sentiment.vader import SentimentIntensityAnalyzer\n",
    "import nltk\n",
    "\n",
    "# Download VADER lexicon\n",
    "nltk.download('vader_lexicon')"
   ]
  },
  {
   "cell_type": "code",
   "execution_count": 18,
   "id": "65070086-480c-406e-a45c-b89a1806b875",
   "metadata": {},
   "outputs": [],
   "source": [
    "import matplotlib.pyplot as plt\n",
    "import seaborn as sns\n",
    "import plotly.express as px\n",
    "from wordcloud import WordCloud"
   ]
  },
  {
   "cell_type": "code",
   "execution_count": 4,
   "id": "e139faf7-e5c1-44fd-a7dd-019334c3bcbf",
   "metadata": {},
   "outputs": [],
   "source": [
    "# Load the data\n",
    "df = pd.read_csv('cleaned_data/1cleanedall.tsv', sep='\\t', header=None, names=['datetime', 'tweet', 'hashtags'])"
   ]
  },
  {
   "cell_type": "code",
   "execution_count": null,
   "id": "53b1a9b8-c95d-465f-a8f3-b34783be6383",
   "metadata": {},
   "outputs": [],
   "source": [
    "# sid = SentimentIntensityAnalyzer()\n",
    "# df[\"Polarity Scores\"] = df[\"content_to_input\"].apply(lambda x: sid.polarity_scores(x))\n",
    "# def sentiment_label(x):\n",
    "#     if x[\"compound\"]>0.05:\n",
    "#         return \"Positive\"\n",
    "#     elif x[\"compound\"]<-0.05:\n",
    "#         return \"Negative\"\n",
    "#     else: \n",
    "#         return \"Neutral\"\n",
    "# df[\"Sentiment_Label\"] = df[\"Polarity Scores\"].apply(lambda x: sentiment_label(x))\n",
    "# df = df.drop(\"Polarity Scores\", axis=1)\n",
    "# df.head(4)"
   ]
  },
  {
   "cell_type": "code",
   "execution_count": 5,
   "id": "f1e490ae-1f52-4799-9b75-10c6e3d17625",
   "metadata": {},
   "outputs": [],
   "source": [
    "# Initialize the VADER sentiment analyzer\n",
    "sid = SentimentIntensityAnalyzer()\n",
    "\n",
    "def get_sentiment_scores(tweet):\n",
    "    return sid.polarity_scores(tweet)\n",
    "\n",
    "# Apply the function to the second column (assuming it's at index 1)\n",
    "df['sentiment_scores'] = df.iloc[:, 1].apply(get_sentiment_scores)\n",
    "\n",
    "# Extracting the compound score for easier interpretation\n",
    "df['compound'] = df['sentiment_scores'].apply(lambda x: x['compound'])"
   ]
  },
  {
   "cell_type": "code",
   "execution_count": 26,
   "id": "28786e28-59c0-44e8-8bb3-df75fa7fb052",
   "metadata": {},
   "outputs": [
    {
     "data": {
      "text/plain": [
       "count    2829.000000\n",
       "mean        0.003606\n",
       "std         0.468097\n",
       "min        -0.960700\n",
       "25%        -0.340000\n",
       "50%         0.000000\n",
       "75%         0.361200\n",
       "max         0.982800\n",
       "Name: compound, dtype: float64"
      ]
     },
     "execution_count": 26,
     "metadata": {},
     "output_type": "execute_result"
    }
   ],
   "source": [
    "df['compound'].describe()"
   ]
  },
  {
   "cell_type": "code",
   "execution_count": 8,
   "id": "2cee229a-75ee-482d-b91f-7be7ced20932",
   "metadata": {},
   "outputs": [],
   "source": [
    "def categorize_sentiment(compound_score):\n",
    "    if compound_score > 0.05:\n",
    "        return \"positive\"\n",
    "    elif compound_score < -0.05:\n",
    "        return \"negative\"\n",
    "    else:\n",
    "        return \"neutral\"\n",
    "\n",
    "# Apply the function to categorize sentiment\n",
    "df['sentiment_category'] = df['compound'].apply(categorize_sentiment)"
   ]
  },
  {
   "cell_type": "code",
   "execution_count": 9,
   "id": "7de00111-1dfb-468a-98f3-b5120f85abbf",
   "metadata": {},
   "outputs": [
    {
     "data": {
      "text/html": [
       "<div>\n",
       "<style scoped>\n",
       "    .dataframe tbody tr th:only-of-type {\n",
       "        vertical-align: middle;\n",
       "    }\n",
       "\n",
       "    .dataframe tbody tr th {\n",
       "        vertical-align: top;\n",
       "    }\n",
       "\n",
       "    .dataframe thead th {\n",
       "        text-align: right;\n",
       "    }\n",
       "</style>\n",
       "<table border=\"1\" class=\"dataframe\">\n",
       "  <thead>\n",
       "    <tr style=\"text-align: right;\">\n",
       "      <th></th>\n",
       "      <th>datetime</th>\n",
       "      <th>tweet</th>\n",
       "      <th>hashtags</th>\n",
       "      <th>sentiment_scores</th>\n",
       "      <th>compound</th>\n",
       "      <th>sentiment_category</th>\n",
       "    </tr>\n",
       "  </thead>\n",
       "  <tbody>\n",
       "    <tr>\n",
       "      <th>0</th>\n",
       "      <td>10/26/24 11:26:16</td>\n",
       "      <td>strong women scare weak men respect donald tru...</td>\n",
       "      <td>#donald #trump #donaldtrump #maga #cult #magac...</td>\n",
       "      <td>{'neg': 0.167, 'neu': 0.658, 'pos': 0.175, 'co...</td>\n",
       "      <td>0.0772</td>\n",
       "      <td>positive</td>\n",
       "    </tr>\n",
       "    <tr>\n",
       "      <th>1</th>\n",
       "      <td>10/26/24 11:29:09</td>\n",
       "      <td>wanna know win election check candidates tube ...</td>\n",
       "      <td>#Election #YouTube #Kamala #Harris #Donald #Tr...</td>\n",
       "      <td>{'neg': 0.0, 'neu': 0.787, 'pos': 0.213, 'comp...</td>\n",
       "      <td>0.5859</td>\n",
       "      <td>positive</td>\n",
       "    </tr>\n",
       "    <tr>\n",
       "      <th>2</th>\n",
       "      <td>10/26/24 12:16:10</td>\n",
       "      <td>donald trump got vote save america americas be...</td>\n",
       "      <td>#donald #trump #got #AmericasBestPicsAndVideos</td>\n",
       "      <td>{'neg': 0.0, 'neu': 0.519, 'pos': 0.481, 'comp...</td>\n",
       "      <td>0.8126</td>\n",
       "      <td>positive</td>\n",
       "    </tr>\n",
       "    <tr>\n",
       "      <th>3</th>\n",
       "      <td>10/26/24 12:20:57</td>\n",
       "      <td>realdonaldtrump cant wait vote nov donald</td>\n",
       "      <td>#donald</td>\n",
       "      <td>{'neg': 0.0, 'neu': 1.0, 'pos': 0.0, 'compound...</td>\n",
       "      <td>0.0000</td>\n",
       "      <td>neutral</td>\n",
       "    </tr>\n",
       "    <tr>\n",
       "      <th>4</th>\n",
       "      <td>10/26/24 12:25:53</td>\n",
       "      <td>donald trump sealonaldtrump americas best pics...</td>\n",
       "      <td>#donald #trump #sealonaldtrump #AmericasBestPi...</td>\n",
       "      <td>{'neg': 0.0, 'neu': 0.588, 'pos': 0.412, 'comp...</td>\n",
       "      <td>0.6369</td>\n",
       "      <td>positive</td>\n",
       "    </tr>\n",
       "  </tbody>\n",
       "</table>\n",
       "</div>"
      ],
      "text/plain": [
       "            datetime                                              tweet  \\\n",
       "0  10/26/24 11:26:16  strong women scare weak men respect donald tru...   \n",
       "1  10/26/24 11:29:09  wanna know win election check candidates tube ...   \n",
       "2  10/26/24 12:16:10  donald trump got vote save america americas be...   \n",
       "3  10/26/24 12:20:57          realdonaldtrump cant wait vote nov donald   \n",
       "4  10/26/24 12:25:53  donald trump sealonaldtrump americas best pics...   \n",
       "\n",
       "                                            hashtags  \\\n",
       "0  #donald #trump #donaldtrump #maga #cult #magac...   \n",
       "1  #Election #YouTube #Kamala #Harris #Donald #Tr...   \n",
       "2     #donald #trump #got #AmericasBestPicsAndVideos   \n",
       "3                                            #donald   \n",
       "4  #donald #trump #sealonaldtrump #AmericasBestPi...   \n",
       "\n",
       "                                    sentiment_scores  compound  \\\n",
       "0  {'neg': 0.167, 'neu': 0.658, 'pos': 0.175, 'co...    0.0772   \n",
       "1  {'neg': 0.0, 'neu': 0.787, 'pos': 0.213, 'comp...    0.5859   \n",
       "2  {'neg': 0.0, 'neu': 0.519, 'pos': 0.481, 'comp...    0.8126   \n",
       "3  {'neg': 0.0, 'neu': 1.0, 'pos': 0.0, 'compound...    0.0000   \n",
       "4  {'neg': 0.0, 'neu': 0.588, 'pos': 0.412, 'comp...    0.6369   \n",
       "\n",
       "  sentiment_category  \n",
       "0           positive  \n",
       "1           positive  \n",
       "2           positive  \n",
       "3            neutral  \n",
       "4           positive  "
      ]
     },
     "execution_count": 9,
     "metadata": {},
     "output_type": "execute_result"
    }
   ],
   "source": [
    "df.head()"
   ]
  },
  {
   "cell_type": "code",
   "execution_count": 10,
   "id": "17e30749-575d-4a82-86b4-0c923168e078",
   "metadata": {},
   "outputs": [],
   "source": [
    "df = df.drop(columns=['sentiment_scores'])"
   ]
  },
  {
   "cell_type": "code",
   "execution_count": 11,
   "id": "4821ff68-e439-43ea-bb93-a3a2804234f7",
   "metadata": {},
   "outputs": [],
   "source": [
    "df.to_csv(\"1cleanedall_with_sentiment.tsv\", sep='\\t', index=False)"
   ]
  },
  {
   "cell_type": "code",
   "execution_count": 19,
   "id": "73f1e418-c803-45a1-a3bc-0d11ce586d65",
   "metadata": {},
   "outputs": [
    {
     "data": {
      "image/png": "[encoded data removed]",
      "text/plain": [
       "<Figure size 640x480 with 1 Axes>"
      ]
     },
     "metadata": {},
     "output_type": "display_data"
    }
   ],
   "source": [
    "ax = sns.histplot(data=df, x=\"sentiment_category\", stat=\"percent\" )\n",
    "plt.title(\"Sentiment Distribution\")\n",
    "plt.ylabel(\"Distribution (percentage)\")\n",
    "ax.spines[['right', 'top']].set_visible(False)"
   ]
  },
  {
   "cell_type": "code",
   "execution_count": 20,
   "id": "a5aa8f43-ef0e-403f-9c28-21cfe76b4177",
   "metadata": {},
   "outputs": [
    {
     "name": "stderr",
     "output_type": "stream",
     "text": [
      "/var/folders/8x/ls3_86k12g91w0kjykg2gd080000gn/T/ipykernel_22279/4263352374.py:1: UserWarning: Could not infer format, so each element will be parsed individually, falling back to `dateutil`. To ensure parsing is consistent and as-expected, please specify a format.\n",
      "  df['date'] = pd.to_datetime(df['datetime']).dt.strftime('%Y-%m-%d')\n"
     ]
    }
   ],
   "source": [
    "df['date'] = pd.to_datetime(df['datetime']).dt.strftime('%Y-%m-%d')\n"
   ]
  },
  {
   "cell_type": "code",
   "execution_count": 21,
   "id": "7e1961de-3512-4174-be10-bb79e6006f99",
   "metadata": {},
   "outputs": [
    {
     "data": {
      "text/html": [
       "<div>\n",
       "<style scoped>\n",
       "    .dataframe tbody tr th:only-of-type {\n",
       "        vertical-align: middle;\n",
       "    }\n",
       "\n",
       "    .dataframe tbody tr th {\n",
       "        vertical-align: top;\n",
       "    }\n",
       "\n",
       "    .dataframe thead th {\n",
       "        text-align: right;\n",
       "    }\n",
       "</style>\n",
       "<table border=\"1\" class=\"dataframe\">\n",
       "  <thead>\n",
       "    <tr style=\"text-align: right;\">\n",
       "      <th></th>\n",
       "      <th>datetime</th>\n",
       "      <th>tweet</th>\n",
       "      <th>hashtags</th>\n",
       "      <th>compound</th>\n",
       "      <th>sentiment_category</th>\n",
       "      <th>date</th>\n",
       "    </tr>\n",
       "  </thead>\n",
       "  <tbody>\n",
       "    <tr>\n",
       "      <th>0</th>\n",
       "      <td>10/26/24 11:26:16</td>\n",
       "      <td>strong women scare weak men respect donald tru...</td>\n",
       "      <td>#donald #trump #donaldtrump #maga #cult #magac...</td>\n",
       "      <td>0.0772</td>\n",
       "      <td>positive</td>\n",
       "      <td>2024-10-26</td>\n",
       "    </tr>\n",
       "    <tr>\n",
       "      <th>1</th>\n",
       "      <td>10/26/24 11:29:09</td>\n",
       "      <td>wanna know win election check candidates tube ...</td>\n",
       "      <td>#Election #YouTube #Kamala #Harris #Donald #Tr...</td>\n",
       "      <td>0.5859</td>\n",
       "      <td>positive</td>\n",
       "      <td>2024-10-26</td>\n",
       "    </tr>\n",
       "    <tr>\n",
       "      <th>2</th>\n",
       "      <td>10/26/24 12:16:10</td>\n",
       "      <td>donald trump got vote save america americas be...</td>\n",
       "      <td>#donald #trump #got #AmericasBestPicsAndVideos</td>\n",
       "      <td>0.8126</td>\n",
       "      <td>positive</td>\n",
       "      <td>2024-10-26</td>\n",
       "    </tr>\n",
       "    <tr>\n",
       "      <th>3</th>\n",
       "      <td>10/26/24 12:20:57</td>\n",
       "      <td>realdonaldtrump cant wait vote nov donald</td>\n",
       "      <td>#donald</td>\n",
       "      <td>0.0000</td>\n",
       "      <td>neutral</td>\n",
       "      <td>2024-10-26</td>\n",
       "    </tr>\n",
       "    <tr>\n",
       "      <th>4</th>\n",
       "      <td>10/26/24 12:25:53</td>\n",
       "      <td>donald trump sealonaldtrump americas best pics...</td>\n",
       "      <td>#donald #trump #sealonaldtrump #AmericasBestPi...</td>\n",
       "      <td>0.6369</td>\n",
       "      <td>positive</td>\n",
       "      <td>2024-10-26</td>\n",
       "    </tr>\n",
       "  </tbody>\n",
       "</table>\n",
       "</div>"
      ],
      "text/plain": [
       "            datetime                                              tweet  \\\n",
       "0  10/26/24 11:26:16  strong women scare weak men respect donald tru...   \n",
       "1  10/26/24 11:29:09  wanna know win election check candidates tube ...   \n",
       "2  10/26/24 12:16:10  donald trump got vote save america americas be...   \n",
       "3  10/26/24 12:20:57          realdonaldtrump cant wait vote nov donald   \n",
       "4  10/26/24 12:25:53  donald trump sealonaldtrump americas best pics...   \n",
       "\n",
       "                                            hashtags  compound  \\\n",
       "0  #donald #trump #donaldtrump #maga #cult #magac...    0.0772   \n",
       "1  #Election #YouTube #Kamala #Harris #Donald #Tr...    0.5859   \n",
       "2     #donald #trump #got #AmericasBestPicsAndVideos    0.8126   \n",
       "3                                            #donald    0.0000   \n",
       "4  #donald #trump #sealonaldtrump #AmericasBestPi...    0.6369   \n",
       "\n",
       "  sentiment_category        date  \n",
       "0           positive  2024-10-26  \n",
       "1           positive  2024-10-26  \n",
       "2           positive  2024-10-26  \n",
       "3            neutral  2024-10-26  \n",
       "4           positive  2024-10-26  "
      ]
     },
     "execution_count": 21,
     "metadata": {},
     "output_type": "execute_result"
    }
   ],
   "source": [
    "df.head()"
   ]
  },
  {
   "cell_type": "code",
   "execution_count": 29,
   "id": "2b1749cb-c39c-4b55-ba98-13511aa101e3",
   "metadata": {},
   "outputs": [
    {
     "data": {
      "image/png": "[encoded data removed]",
      "text/plain": [
       "<Figure size 1000x500 with 1 Axes>"
      ]
     },
     "metadata": {},
     "output_type": "display_data"
    }
   ],
   "source": [
    "tweet_counts = df['date'].value_counts().sort_index()\n",
    "\n",
    "# Plotting\n",
    "plt.figure(figsize=(10, 5))\n",
    "tweet_counts.plot(kind='bar', color='skyblue')\n",
    "plt.title('Number of Tweets per Date')\n",
    "plt.xlabel('Date')\n",
    "plt.ylabel('Number of Tweets')\n",
    "plt.xticks(rotation=45)\n",
    "plt.tight_layout()\n",
    "plt.show()"
   ]
  },
  {
   "cell_type": "code",
   "execution_count": 34,
   "id": "f6bc0df4-71ed-4a6c-a917-3f33b8288476",
   "metadata": {},
   "outputs": [
    {
     "data": {
      "text/plain": [
       "pandas.core.series.Series"
      ]
     },
     "execution_count": 34,
     "metadata": {},
     "output_type": "execute_result"
    }
   ],
   "source": [
    "type(df['datetime'])"
   ]
  },
  {
   "cell_type": "code",
   "execution_count": 36,
   "id": "a533dc6d-d793-4e5f-a3c1-94d1f44e0918",
   "metadata": {},
   "outputs": [
    {
     "name": "stderr",
     "output_type": "stream",
     "text": [
      "/var/folders/8x/ls3_86k12g91w0kjykg2gd080000gn/T/ipykernel_22279/493892641.py:1: UserWarning: Could not infer format, so each element will be parsed individually, falling back to `dateutil`. To ensure parsing is consistent and as-expected, please specify a format.\n",
      "  df['datetime'] = pd.to_datetime(df['datetime'])\n",
      "/var/folders/8x/ls3_86k12g91w0kjykg2gd080000gn/T/ipykernel_22279/493892641.py:4: FutureWarning: 'H' is deprecated and will be removed in a future version, please use 'h' instead.\n",
      "  df['date_hour'] = df['datetime'].dt.floor('H')\n"
     ]
    },
    {
     "data": {
      "image/png": "[encoded data removed]",
      "text/plain": [
       "<Figure size 1200x600 with 1 Axes>"
      ]
     },
     "metadata": {},
     "output_type": "display_data"
    }
   ],
   "source": [
    "df['datetime'] = pd.to_datetime(df['datetime'])\n",
    "\n",
    "# Create a new column for date and hour\n",
    "df['date_hour'] = df['datetime'].dt.floor('H')\n",
    "\n",
    "# Count tweets per date and hour\n",
    "tweet_counts = df['date_hour'].value_counts().sort_index()\n",
    "\n",
    "# Create a DataFrame for plotting\n",
    "tweet_counts_df = pd.DataFrame(tweet_counts).reset_index()\n",
    "tweet_counts_df.columns = ['date_hour', 'count']\n",
    "\n",
    "# Plotting\n",
    "plt.figure(figsize=(12, 6))\n",
    "plt.plot(tweet_counts_df['date_hour'], tweet_counts_df['count'], marker='o', linestyle='-')\n",
    "plt.title('Number of Tweets per Hour')\n",
    "plt.xlabel('Date and Hour')\n",
    "plt.ylabel('Number of Tweets')\n",
    "plt.xticks(rotation=45)  # Rotate x-axis labels for better readability\n",
    "plt.tight_layout()  # Adjust layout to prevent overlap\n",
    "plt.grid()\n",
    "plt.show()"
   ]
  },
  {
   "cell_type": "code",
   "execution_count": 27,
   "id": "53e73b85-f6ed-41f4-bb21-22eab2546eec",
   "metadata": {},
   "outputs": [],
   "source": [
    "#houlrly "
   ]
  },
  {
   "cell_type": "code",
   "execution_count": null,
   "id": "c04c5015-087d-406c-b010-4ff1e73d452b",
   "metadata": {},
   "outputs": [],
   "source": [
    "df_grouped_date_sentiment = df.groupby(by=[\"datetime\",\"sentiment_category\"],as_index=False).count()\n",
    "df_grouped_date = df.groupby(by=[\"date only\"],as_index=False).count()\n",
    "df_grouped_date = df_grouped_date[[\"date only\",\"content_x\"]] \n",
    "df_grouped_date_sentiment = df_grouped_date_sentiment[[\"date only\",\"Sentiment_Label\",\"content_x\"]]\n",
    "max_2 = df_grouped_date.sort_values(by=\"content_x\",ascending=False).iloc[:2]\n",
    "fig = plt.subplots(2,1,figsize=(13,12))\n",
    "plt.subplot(2,1,1)\n",
    "sns.lineplot(data=df_grouped_date , x=\"date only\",y=\"content_x\")\n",
    "sns.scatterplot(data=df_grouped_date , x=\"date only\",y=\"content_x\")\n",
    "plt.ylabel(\"No. of Tweets\")\n",
    "plt.xlabel(\"Date\")\n",
    "plt.title(\"Overall Trend in Tweet Count\")\n",
    "plt.text(max_2[\"date only\"].iloc[1]+timedelta(days=1), max_2[\"content_x\"].iloc[1], str(max_2[\"date only\"].iloc[1]))\n",
    "plt.text(max_2[\"date only\"].iloc[0]+timedelta(days=1), max_2[\"content_x\"].iloc[0], str(max_2[\"date only\"].iloc[0]))\n",
    "plt.plot(max_2[\"date only\"].iloc[0], max_2[\"content_x\"].iloc[0],marker='o')\n",
    "plt.plot(max_2[\"date only\"].iloc[1], max_2[\"content_x\"].iloc[1],marker='o')\n",
    "plt.tight_layout()\n",
    "plt.subplot(2,1,2)\n",
    "sns.lineplot(data=df_grouped_date_sentiment , x=\"date only\",y=\"content_x\", hue=\"Sentiment_Label\", legend=\"full\")\n",
    "plt.ylabel(\"No. of Tweets\")\n",
    "plt.xlabel(\"Date\")\n",
    "plt.title(\"Trend in Tweet Count overlayed by Sentiment\")\n",
    "plt.tight_layout()"
   ]
  }
 ],
 "metadata": {
  "kernelspec": {
   "display_name": "Python 3 (ipykernel)",
   "language": "python",
   "name": "python3"
  },
  "language_info": {
   "codemirror_mode": {
    "name": "ipython",
    "version": 3
   },
   "file_extension": ".py",
   "mimetype": "text/x-python",
   "name": "python",
   "nbconvert_exporter": "python",
   "pygments_lexer": "ipython3",
   "version": "3.9.18"
  }
 },
 "nbformat": 4,
 "nbformat_minor": 5
}
